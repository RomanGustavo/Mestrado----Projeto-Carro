{
  "cells": [
    {
      "cell_type": "markdown",
      "metadata": {
        "id": "view-in-github",
        "colab_type": "text"
      },
      "source": [
        "<a href=\"https://colab.research.google.com/github/RomanGustavo/Mestrado----Projeto-Carro/blob/main/TWICE_Colab_Starter.ipynb\" target=\"_parent\"><img src=\"https://colab.research.google.com/assets/colab-badge.svg\" alt=\"Open In Colab\"/></a>"
      ]
    },
    {
      "cell_type": "markdown",
      "id": "905f97d3",
      "metadata": {
        "id": "905f97d3"
      },
      "source": [
        "# TWICE Dataset — Colab Starter\n",
        "Este notebook prepara o ambiente, baixa o **subset** do TWICE, lê `.osi`, projeta cuboids (via utilitários do repo) e mostra como visualizar radar e rodar um detector (YOLOv7) para DEMO.\n",
        "\n",
        "> Dica: execute célula por célula, na ordem. Se o runtime reiniciar, rode novamente as células de instalação (1–2).\n"
      ]
    },
    {
      "cell_type": "code",
      "execution_count": null,
      "id": "acb83af7",
      "metadata": {
        "id": "acb83af7"
      },
      "outputs": [],
      "source": [
        "# CEL 1 — pacotes base\n",
        "!pip -q install --upgrade opencv-python tqdm open3d protobuf==4.25.3 matplotlib"
      ]
    },
    {
      "cell_type": "code",
      "execution_count": null,
      "id": "e0637233",
      "metadata": {
        "id": "e0637233"
      },
      "outputs": [],
      "source": [
        "# CEL 2 — Open Simulation Interface (OSI): tenta importar; se não existir, compila a partir do repo oficial\n",
        "try:\n",
        "    import osi3\n",
        "    print(\"✅ osi3 já disponível\")\n",
        "except Exception as e:\n",
        "    print(\"⚠️ osi3 não encontrado. Clonando OSI e instalando a partir do código-fonte...\")\n",
        "    !git clone -q https://github.com/OpenSimulationInterface/open-simulation-interface.git\n",
        "    %cd /content/open-simulation-interface\n",
        "    !python3 setup.py -q build_py\n",
        "    !pip -q install .\n",
        "    %cd /content\n",
        "    import osi3\n",
        "    print(\"✅ osi3 instalado\")"
      ]
    },
    {
      "cell_type": "code",
      "execution_count": null,
      "id": "fde90579",
      "metadata": {
        "id": "fde90579"
      },
      "outputs": [],
      "source": [
        "# CEL 3 — clonar scripts\n",
        "!git clone -q https://github.com/TWICEdataset/scripts.git\n",
        "%cd /content/scripts\n",
        "!ls -la"
      ]
    },
    {
      "cell_type": "code",
      "execution_count": null,
      "id": "878f3158",
      "metadata": {
        "id": "878f3158"
      },
      "outputs": [],
      "source": [
        "# CEL 4 — baixar o subset (~439 MB) e extrair\n",
        "import os, zipfile, urllib.request, pathlib\n",
        "\n",
        "subset_url = \"https://twice.eletrica.ufpr.br/TWICEsubset.zip\"\n",
        "zip_path = \"/content/TWICEsubset.zip\"\n",
        "out_dir = pathlib.Path(\"/content/TWICE\")\n",
        "\n",
        "if not os.path.exists(zip_path):\n",
        "    print(\"⬇️ Baixando subset...\")\n",
        "    urllib.request.urlretrieve(subset_url, zip_path)\n",
        "else:\n",
        "    print(\"ZIP já existe. Pulando download.\")\n",
        "\n",
        "print(\"📦 Extraindo...\")\n",
        "out_dir.mkdir(parents=True, exist_ok=True)\n",
        "with zipfile.ZipFile(zip_path, 'r') as zf:\n",
        "    zf.extractall(out_dir)\n",
        "\n",
        "print(\"✅ Pronto. Dados em:\", out_dir)"
      ]
    },
    {
      "cell_type": "code",
      "execution_count": null,
      "id": "7d37b089",
      "metadata": {
        "id": "7d37b089"
      },
      "outputs": [],
      "source": [
        "# CEL 5 — paths e imports\n",
        "import sys, pathlib\n",
        "DATA_ROOT = pathlib.Path(\"/content/TWICE\")\n",
        "SCRIPTS_ROOT = pathlib.Path(\"/content/scripts\")\n",
        "sys.path.insert(0, str(SCRIPTS_ROOT))\n",
        "\n",
        "print(\"DATA_ROOT =\", DATA_ROOT)\n",
        "print(\"SCRIPTS_ROOT =\", SCRIPTS_ROOT)\n",
        "\n",
        "from cuboid_project import rotation_matrix, cuboid_corners\n",
        "from vehicle_to_image import Camera\n",
        "print(\"✅ utilitários importados\")"
      ]
    },
    {
      "cell_type": "code",
      "execution_count": null,
      "id": "6459d5c7",
      "metadata": {
        "id": "6459d5c7"
      },
      "outputs": [],
      "source": [
        "# CEL 6 — iterar frames do .osi e salvar um MP4 (preview)\n",
        "import cv2, struct\n",
        "import numpy as np\n",
        "from pathlib import Path\n",
        "from tqdm import tqdm\n",
        "\n",
        "# Preferir as classes do repositório, quando disponíveis\n",
        "try:\n",
        "    from cuboid_project import SensorData as OSISensorData\n",
        "    SensorData = OSISensorData\n",
        "    from cuboid_project import SensorDataSeries  # se necessário em outros sensores\n",
        "except Exception as e:\n",
        "    SensorData = None\n",
        "    print(\"Aviso: classes de Sensor do repo não importadas:\", e)\n",
        "\n",
        "def iter_camera_frames(osi_path: Path):\n",
        "    assert SensorData is not None, \"SensorData do repo não disponível — verifique imports na CEL 5.\"\n",
        "    with open(osi_path, \"rb\") as f:\n",
        "        while True:\n",
        "            len_bytes = f.read(4)\n",
        "            if not len_bytes:\n",
        "                break\n",
        "            (msg_len,) = struct.unpack(\"I\", len_bytes)\n",
        "            msg = f.read(msg_len)\n",
        "            sd = SensorData()\n",
        "            sd.ParseFromString(msg)\n",
        "            if sd.HasField(\"image_data\") and len(sd.image_data) and sd.image_data[0].HasField(\"image\"):\n",
        "                img_bytes = sd.image_data[0].image.raw_data\n",
        "                img_np = np.frombuffer(img_bytes, dtype=np.uint8)\n",
        "                frame = cv2.imdecode(img_np, cv2.IMREAD_COLOR)\n",
        "                if frame is not None:\n",
        "                    yield frame\n",
        "\n",
        "# achar uma pasta /Camera no subset\n",
        "scenario_dir = next(DATA_ROOT.rglob(\"Camera\"), None)\n",
        "assert scenario_dir is not None, \"Não encontrei /Camera no subset. Verifique se o ZIP foi extraído corretamente.\"\n",
        "\n",
        "cam_file = next(Path(scenario_dir).glob(\"*.osi\"))\n",
        "print(\"🎥 Câmera .osi:\", cam_file)\n",
        "\n",
        "# gerar um preview curto (≤150 frames)\n",
        "frames = []\n",
        "for i, fr in enumerate(iter_camera_frames(cam_file)):\n",
        "    frames.append(fr)\n",
        "    if i >= 150: break\n",
        "\n",
        "assert frames, \"Não foi possível decodificar frames. Verifique a instalação do OSI e o arquivo .osi.\"\n",
        "\n",
        "h, w = frames[0].shape[:2]\n",
        "out_path = \"/content/camera_preview.mp4\"\n",
        "fourcc = cv2.VideoWriter_fourcc(*\"mp4v\")\n",
        "vw = cv2.VideoWriter(out_path, fourcc, 15, (w, h))\n",
        "for fr in frames:\n",
        "    vw.write(fr)\n",
        "vw.release()\n",
        "print(\"✅ Preview salvo em:\", out_path)"
      ]
    },
    {
      "cell_type": "code",
      "execution_count": null,
      "id": "588ebaad",
      "metadata": {
        "id": "588ebaad"
      },
      "outputs": [],
      "source": [
        "# CEL 7 — carregar intrínsecas do OpenLABEL e desenhar uma anotação no primeiro frame\n",
        "import json, cv2, numpy as np\n",
        "from pathlib import Path\n",
        "\n",
        "openlabel_file = next(Path(scenario_dir).glob(\"*open*label*camera*.json\"), None)\n",
        "print(\"🧾 OpenLABEL:\", openlabel_file)\n",
        "\n",
        "with open(openlabel_file, \"r\") as f:\n",
        "    ol = json.load(f)\n",
        "\n",
        "# Matriz intrínseca K\n",
        "K = np.array(\n",
        "    ol[\"openlabel\"][\"frames\"][0][\"frame_properties\"][\"Streams\"][\"Camera1\"][\"intrinsics_pinhole\"][\"camera_matrix_3x4\"]\n",
        ").reshape(3,4)[:3,:3]\n",
        "\n",
        "# Demonstração simples (texto). Para projeção 3D->2D (arestas), use as funções do cuboid_project.py\n",
        "frame0 = frames[0].copy()\n",
        "cv2.putText(frame0, \"Cuboids: use funcoes do cuboid_project.py para projetar 3D->2D\", (30,40),\n",
        "            cv2.FONT_HERSHEY_SIMPLEX, 0.8, (0,255,0), 2)\n",
        "cv2.imwrite(\"/content/cuboids_demo.jpg\", frame0)\n",
        "print(\"✅ Exemplo salvo em /content/cuboids_demo.jpg\")"
      ]
    },
    {
      "cell_type": "code",
      "execution_count": null,
      "id": "1531b258",
      "metadata": {
        "id": "1531b258"
      },
      "outputs": [],
      "source": [
        "# CEL 8 — visualizar radar (cluster/object list) — precisa de arquivo em /Radar\n",
        "from importlib import reload\n",
        "import os\n",
        "try:\n",
        "    import radar_osi_plot as rplt\n",
        "    reload(rplt)\n",
        "    radar_dir = (Path(scenario_dir).parent / \"Radar\")\n",
        "    if radar_dir.exists():\n",
        "        radar_osi = next(radar_dir.glob(\"*.osi\"))\n",
        "        print(\"📡 Radar .osi:\", radar_osi)\n",
        "        # Abra o arquivo radar_osi_plot.py para ver como salvar vídeo (há exemplo lá).\n",
        "    else:\n",
        "        print(\"⚠️ Este caso do subset pode não ter Radar. Teste outro cenário ou use o dataset completo.\")\n",
        "except Exception as e:\n",
        "    print(\"⚠️ Import do script de radar falhou:\", e)"
      ]
    },
    {
      "cell_type": "code",
      "execution_count": null,
      "id": "1b928cb8",
      "metadata": {
        "id": "1b928cb8"
      },
      "outputs": [],
      "source": [
        "# CEL 9 — (opcional) rodar YOLOv7 para DEMO\n",
        "import os, cv2\n",
        "os.makedirs(\"/content/frames\", exist_ok=True)\n",
        "for i, fr in enumerate(frames[:30]):\n",
        "    cv2.imwrite(f\"/content/frames/{i:04d}.jpg\", fr)\n",
        "\n",
        "!git clone -q https://github.com/WongKinYiu/yolov7.git\n",
        "%cd /content/yolov7\n",
        "!pip -q install -r requirements.txt\n",
        "%cd /content/yolov7\n",
        "!python detect.py --weights yolov7.pt --conf 0.25 --source /content/frames --save-txt --project /content/y7out --name det --exist-ok\n",
        "print(\"✅ Saídas em /content/y7out/det\")"
      ]
    }
  ],
  "metadata": {
    "colab": {
      "provenance": [],
      "include_colab_link": true
    }
  },
  "nbformat": 4,
  "nbformat_minor": 5
}
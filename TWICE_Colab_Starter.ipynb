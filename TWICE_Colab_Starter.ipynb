{
  "cells": [
    {
      "cell_type": "markdown",
      "metadata": {
        "id": "view-in-github",
        "colab_type": "text"
      },
      "source": [
        "<a href=\"https://colab.research.google.com/github/RomanGustavo/Mestrado----Projeto-Carro/blob/main/TWICE_Colab_Starter.ipynb\" target=\"_parent\"><img src=\"https://colab.research.google.com/assets/colab-badge.svg\" alt=\"Open In Colab\"/></a>"
      ]
    },
    {
      "cell_type": "markdown",
      "id": "905f97d3",
      "metadata": {
        "id": "905f97d3"
      },
      "source": [
        "# TWICE Dataset — Colab Starter\n",
        "Este notebook prepara o ambiente, baixa o **subset** do TWICE, lê `.osi`, projeta cuboids (via utilitários do repo) e mostra como visualizar radar e rodar um detector (YOLOv7) para DEMO.\n"
      ]
    },
    {
      "cell_type": "markdown",
      "source": [
        "CEL 1 — instalar pacotes\n",
        "\n",
        "o que faz: pip install de dependências usadas ao longo do notebook:\n",
        "\n",
        "opencv-python (ler/decodificar imagens JPEG dentro dos .osi, fazer vídeo),\n",
        "\n",
        "tqdm (barrinhas de progresso),\n",
        "\n",
        "open3d (visualizar/grav ar nuvem de pontos .ply — útil pro LiDAR),\n",
        "\n",
        "protobuf==4.25.3 (compatível com as mensagens OSI),\n",
        "\n",
        "matplotlib (gráficos simples).\n",
        "\n",
        "relação com o TWICE: os arquivos do TWICE usam OSI via protobuf; sem o protobuf correto e o OpenCV, você não abre os frames da câmera nem gera os vídeos."
      ],
      "metadata": {
        "id": "i7nu_XHJfPPy"
      },
      "id": "i7nu_XHJfPPy"
    },
    {
      "cell_type": "code",
      "execution_count": 2,
      "id": "acb83af7",
      "metadata": {
        "colab": {
          "base_uri": "https://localhost:8080/",
          "height": 529
        },
        "id": "acb83af7",
        "outputId": "d9924cdb-93ab-4f7c-d0cf-1f8f2d744cea"
      },
      "outputs": [
        {
          "output_type": "stream",
          "name": "stdout",
          "text": [
            "Collecting protobuf==4.25.3\n",
            "  Using cached protobuf-4.25.3-cp37-abi3-manylinux2014_x86_64.whl.metadata (541 bytes)\n",
            "Using cached protobuf-4.25.3-cp37-abi3-manylinux2014_x86_64.whl (294 kB)\n",
            "Installing collected packages: protobuf\n",
            "  Attempting uninstall: protobuf\n",
            "    Found existing installation: protobuf 4.25.3\n",
            "    Uninstalling protobuf-4.25.3:\n",
            "      Successfully uninstalled protobuf-4.25.3\n",
            "\u001b[31mERROR: pip's dependency resolver does not currently take into account all the packages that are installed. This behaviour is the source of the following dependency conflicts.\n",
            "grpcio-status 1.71.2 requires protobuf<6.0dev,>=5.26.1, but you have protobuf 4.25.3 which is incompatible.\n",
            "ydf 0.13.0 requires protobuf<7.0.0,>=5.29.1, but you have protobuf 4.25.3 which is incompatible.\u001b[0m\u001b[31m\n",
            "\u001b[0mSuccessfully installed protobuf-4.25.3\n"
          ]
        },
        {
          "output_type": "display_data",
          "data": {
            "application/vnd.colab-display-data+json": {
              "pip_warning": {
                "packages": [
                  "google"
                ]
              },
              "id": "bcbe7ec73f7740e09867f357a51e6915"
            }
          },
          "metadata": {}
        },
        {
          "output_type": "stream",
          "name": "stdout",
          "text": [
            "Collecting grpcio-status==1.60.0\n",
            "  Downloading grpcio_status-1.60.0-py3-none-any.whl.metadata (1.3 kB)\n",
            "Requirement already satisfied: protobuf>=4.21.6 in /usr/local/lib/python3.12/dist-packages (from grpcio-status==1.60.0) (4.25.3)\n",
            "Requirement already satisfied: grpcio>=1.60.0 in /usr/local/lib/python3.12/dist-packages (from grpcio-status==1.60.0) (1.74.0)\n",
            "Requirement already satisfied: googleapis-common-protos>=1.5.5 in /usr/local/lib/python3.12/dist-packages (from grpcio-status==1.60.0) (1.70.0)\n",
            "Downloading grpcio_status-1.60.0-py3-none-any.whl (14 kB)\n",
            "Installing collected packages: grpcio-status\n",
            "  Attempting uninstall: grpcio-status\n",
            "    Found existing installation: grpcio-status 1.71.2\n",
            "    Uninstalling grpcio-status-1.71.2:\n",
            "      Successfully uninstalled grpcio-status-1.71.2\n",
            "Successfully installed grpcio-status-1.60.0\n"
          ]
        }
      ],
      "source": [
        "# CEL 1 — pacotes base\n",
        "!pip -q install --upgrade opencv-python tqdm open3d protobuf==4.25.3 matplotlib\n",
        "\n",
        "# Forçar protobuf 4 só para os scripts OSI/TWICE\n",
        "!pip install \"protobuf==4.25.3\" --force-reinstall\n",
        "\n",
        "# Depois reinstalar o grpcio-status na versão compatível com protobuf 4\n",
        "!pip install \"grpcio-status==1.60.0\""
      ]
    },
    {
      "cell_type": "markdown",
      "source": [
        "CEL 2 — instalar/ativar o OSI (Open Simulation Interface)\n",
        "\n",
        "o que faz: tenta import osi3. se não existir, clona o repositório oficial do OSI, gera os módulos python a partir dos .proto (com setup.py build_py) e instala com pip.\n",
        "\n",
        "relação com o TWICE: os .osi do TWICE são mensagens protobuf do OSI (classes como SensorData e SensorDataSeries). sem o pacote osi3, você não consegue decodificar o conteúdo dos arquivos de câmera/radar/lidar/IMU."
      ],
      "metadata": {
        "id": "CWU6Ug0Oe-60"
      },
      "id": "CWU6Ug0Oe-60"
    },
    {
      "cell_type": "code",
      "execution_count": 3,
      "id": "e0637233",
      "metadata": {
        "id": "e0637233",
        "colab": {
          "base_uri": "https://localhost:8080/"
        },
        "outputId": "7f87546d-8254-4e8b-c54d-0810280aeeb4"
      },
      "outputs": [
        {
          "output_type": "stream",
          "name": "stdout",
          "text": [
            "⚠️ osi3 não encontrado. Clonando OSI e instalando a partir do código-fonte...\n",
            "/content/open-simulation-interface\n",
            "Traceback (most recent call last):\n",
            "  File \"/content/open-simulation-interface/setup.py\", line 15, in <module>\n",
            "    from protoc import PROTOC_EXE\n",
            "ModuleNotFoundError: No module named 'protoc'\n",
            "  Installing build dependencies ... \u001b[?25l\u001b[?25hdone\n",
            "  Getting requirements to build wheel ... \u001b[?25l\u001b[?25hdone\n",
            "  Preparing metadata (pyproject.toml) ... \u001b[?25l\u001b[?25hdone\n",
            "  Building wheel for open-simulation-interface (pyproject.toml) ... \u001b[?25l\u001b[?25hdone\n",
            "/content\n",
            "✅ osi3 instalado\n"
          ]
        }
      ],
      "source": [
        "# CEL 2 — Open Simulation Interface (OSI): tenta importar; se não existir, compila a partir do repo oficial\n",
        "try:\n",
        "    import osi3\n",
        "    print(\"✅ osi3 já disponível\")\n",
        "except Exception as e:\n",
        "    print(\"⚠️ osi3 não encontrado. Clonando OSI e instalando a partir do código-fonte...\")\n",
        "    !git clone -q https://github.com/OpenSimulationInterface/open-simulation-interface.git\n",
        "    %cd /content/open-simulation-interface\n",
        "    !python3 setup.py -q build_py\n",
        "    !pip -q install .\n",
        "    %cd /content\n",
        "    import osi3\n",
        "    print(\"✅ osi3 instalado\")"
      ]
    },
    {
      "cell_type": "markdown",
      "source": [
        "CEL 3 — clonar os scripts do repositório TWICE\n",
        "\n",
        "o que faz: git clone de TWICEdataset/scripts e entra na pasta.\n",
        "\n",
        "relação com o TWICE: esse repo traz utilitários prontos que já entendem a estrutura OSI/OpenLABEL do TWICE:\n",
        "\n",
        "cuboid_project.py: projeção de cuboids 3D → imagem (usa intrínsecas/extrínsecas).\n",
        "\n",
        "radar_osi_plot.py: leitura/plot do radar (modos cluster e object list) + trajetória.\n",
        "\n",
        "lidar_osi2PLY.py: converter LiDAR .osi → .ply.\n",
        "\n",
        "tutorial.ipynb: exemplos prontos."
      ],
      "metadata": {
        "id": "Ek8fyQGZgYqw"
      },
      "id": "Ek8fyQGZgYqw"
    },
    {
      "cell_type": "code",
      "execution_count": 4,
      "id": "fde90579",
      "metadata": {
        "id": "fde90579",
        "colab": {
          "base_uri": "https://localhost:8080/"
        },
        "outputId": "4ea9d63b-0cfb-45f4-b879-f209b3708fc1"
      },
      "outputs": [
        {
          "output_type": "stream",
          "name": "stdout",
          "text": [
            "/content/scripts\n",
            "total 132\n",
            "drwxr-xr-x 5 root root  4096 Aug 24 14:15 .\n",
            "drwxr-xr-x 1 root root  4096 Aug 24 14:15 ..\n",
            "-rw-r--r-- 1 root root 16496 Aug 24 14:15 cuboid_project.py\n",
            "-rw-r--r-- 1 root root  4891 Aug 24 14:15 file_selector.py\n",
            "drwxr-xr-x 8 root root  4096 Aug 24 14:15 .git\n",
            "-rw-r--r-- 1 root root  3317 Aug 24 14:15 lidar_osi2PLY.py\n",
            "drwxr-xr-x 2 root root  4096 Aug 24 14:15 __pycache__\n",
            "-rw-r--r-- 1 root root 27662 Aug 24 14:15 radar_osi_plot.py\n",
            "-rw-r--r-- 1 root root  1545 Aug 24 14:15 README.md\n",
            "-rw-r--r-- 1 root root   117 Aug 24 14:15 requirements.txt\n",
            "drwxr-xr-x 2 root root  4096 Aug 24 14:15 Results\n",
            "-rw-r--r-- 1 root root 18228 Aug 24 14:15 tutorial.ipynb\n",
            "-rw-r--r-- 1 root root 15554 Aug 24 14:15 TWICE_df.csv\n",
            "-rw-r--r-- 1 root root    20 Aug 24 14:15 TWICE_path.txt\n",
            "-rw-r--r-- 1 root root  2350 Aug 24 14:15 vehicle_to_image.py\n"
          ]
        }
      ],
      "source": [
        "# CEL 3 — clonar scripts\n",
        "!git clone -q https://github.com/TWICEdataset/scripts.git\n",
        "%cd /content/scripts\n",
        "!ls -la"
      ]
    },
    {
      "cell_type": "markdown",
      "source": [
        "CEL 4 — baixar e extrair o subset do dataset\n",
        "\n",
        "o que faz: baixa TWICEsubset.zip (~439 MB) do servidor e extrai em /content/TWICE.\n",
        "\n",
        "relação com o TWICE: você passa a ter localmente a árvore de cenários do dataset (ex.: Scenarios/dynamic ego/.../real/daytime/.../{Camera,Radar,LiDAR,IMU ...}), com arquivos .osi por sensor e arquivos OpenLABEL .json (anotações e calibrações)."
      ],
      "metadata": {
        "id": "5oLcm_2rgsIG"
      },
      "id": "5oLcm_2rgsIG"
    },
    {
      "cell_type": "code",
      "execution_count": 5,
      "id": "878f3158",
      "metadata": {
        "id": "878f3158",
        "colab": {
          "base_uri": "https://localhost:8080/",
          "height": 425
        },
        "outputId": "033aba42-d9c3-455c-b2e9-c0a46e21f090"
      },
      "outputs": [
        {
          "output_type": "stream",
          "name": "stdout",
          "text": [
            "⬇️ Baixando subset...\n"
          ]
        },
        {
          "output_type": "error",
          "ename": "URLError",
          "evalue": "<urlopen error [SSL: CERTIFICATE_VERIFY_FAILED] certificate verify failed: unable to get local issuer certificate (_ssl.c:1010)>",
          "traceback": [
            "\u001b[0;31m---------------------------------------------------------------------------\u001b[0m",
            "\u001b[0;31mSSLCertVerificationError\u001b[0m                  Traceback (most recent call last)",
            "\u001b[0;32m/usr/lib/python3.12/urllib/request.py\u001b[0m in \u001b[0;36mdo_open\u001b[0;34m(self, http_class, req, **http_conn_args)\u001b[0m\n\u001b[1;32m   1343\u001b[0m             \u001b[0;32mtry\u001b[0m\u001b[0;34m:\u001b[0m\u001b[0;34m\u001b[0m\u001b[0;34m\u001b[0m\u001b[0m\n\u001b[0;32m-> 1344\u001b[0;31m                 h.request(req.get_method(), req.selector, req.data, headers,\n\u001b[0m\u001b[1;32m   1345\u001b[0m                           encode_chunked=req.has_header('Transfer-encoding'))\n",
            "\u001b[0;32m/usr/lib/python3.12/http/client.py\u001b[0m in \u001b[0;36mrequest\u001b[0;34m(self, method, url, body, headers, encode_chunked)\u001b[0m\n\u001b[1;32m   1337\u001b[0m         \u001b[0;34m\"\"\"Send a complete request to the server.\"\"\"\u001b[0m\u001b[0;34m\u001b[0m\u001b[0;34m\u001b[0m\u001b[0m\n\u001b[0;32m-> 1338\u001b[0;31m         \u001b[0mself\u001b[0m\u001b[0;34m.\u001b[0m\u001b[0m_send_request\u001b[0m\u001b[0;34m(\u001b[0m\u001b[0mmethod\u001b[0m\u001b[0;34m,\u001b[0m \u001b[0murl\u001b[0m\u001b[0;34m,\u001b[0m \u001b[0mbody\u001b[0m\u001b[0;34m,\u001b[0m \u001b[0mheaders\u001b[0m\u001b[0;34m,\u001b[0m \u001b[0mencode_chunked\u001b[0m\u001b[0;34m)\u001b[0m\u001b[0;34m\u001b[0m\u001b[0;34m\u001b[0m\u001b[0m\n\u001b[0m\u001b[1;32m   1339\u001b[0m \u001b[0;34m\u001b[0m\u001b[0m\n",
            "\u001b[0;32m/usr/lib/python3.12/http/client.py\u001b[0m in \u001b[0;36m_send_request\u001b[0;34m(self, method, url, body, headers, encode_chunked)\u001b[0m\n\u001b[1;32m   1383\u001b[0m             \u001b[0mbody\u001b[0m \u001b[0;34m=\u001b[0m \u001b[0m_encode\u001b[0m\u001b[0;34m(\u001b[0m\u001b[0mbody\u001b[0m\u001b[0;34m,\u001b[0m \u001b[0;34m'body'\u001b[0m\u001b[0;34m)\u001b[0m\u001b[0;34m\u001b[0m\u001b[0;34m\u001b[0m\u001b[0m\n\u001b[0;32m-> 1384\u001b[0;31m         \u001b[0mself\u001b[0m\u001b[0;34m.\u001b[0m\u001b[0mendheaders\u001b[0m\u001b[0;34m(\u001b[0m\u001b[0mbody\u001b[0m\u001b[0;34m,\u001b[0m \u001b[0mencode_chunked\u001b[0m\u001b[0;34m=\u001b[0m\u001b[0mencode_chunked\u001b[0m\u001b[0;34m)\u001b[0m\u001b[0;34m\u001b[0m\u001b[0;34m\u001b[0m\u001b[0m\n\u001b[0m\u001b[1;32m   1385\u001b[0m \u001b[0;34m\u001b[0m\u001b[0m\n",
            "\u001b[0;32m/usr/lib/python3.12/http/client.py\u001b[0m in \u001b[0;36mendheaders\u001b[0;34m(self, message_body, encode_chunked)\u001b[0m\n\u001b[1;32m   1332\u001b[0m             \u001b[0;32mraise\u001b[0m \u001b[0mCannotSendHeader\u001b[0m\u001b[0;34m(\u001b[0m\u001b[0;34m)\u001b[0m\u001b[0;34m\u001b[0m\u001b[0;34m\u001b[0m\u001b[0m\n\u001b[0;32m-> 1333\u001b[0;31m         \u001b[0mself\u001b[0m\u001b[0;34m.\u001b[0m\u001b[0m_send_output\u001b[0m\u001b[0;34m(\u001b[0m\u001b[0mmessage_body\u001b[0m\u001b[0;34m,\u001b[0m \u001b[0mencode_chunked\u001b[0m\u001b[0;34m=\u001b[0m\u001b[0mencode_chunked\u001b[0m\u001b[0;34m)\u001b[0m\u001b[0;34m\u001b[0m\u001b[0;34m\u001b[0m\u001b[0m\n\u001b[0m\u001b[1;32m   1334\u001b[0m \u001b[0;34m\u001b[0m\u001b[0m\n",
            "\u001b[0;32m/usr/lib/python3.12/http/client.py\u001b[0m in \u001b[0;36m_send_output\u001b[0;34m(self, message_body, encode_chunked)\u001b[0m\n\u001b[1;32m   1092\u001b[0m         \u001b[0;32mdel\u001b[0m \u001b[0mself\u001b[0m\u001b[0;34m.\u001b[0m\u001b[0m_buffer\u001b[0m\u001b[0;34m[\u001b[0m\u001b[0;34m:\u001b[0m\u001b[0;34m]\u001b[0m\u001b[0;34m\u001b[0m\u001b[0;34m\u001b[0m\u001b[0m\n\u001b[0;32m-> 1093\u001b[0;31m         \u001b[0mself\u001b[0m\u001b[0;34m.\u001b[0m\u001b[0msend\u001b[0m\u001b[0;34m(\u001b[0m\u001b[0mmsg\u001b[0m\u001b[0;34m)\u001b[0m\u001b[0;34m\u001b[0m\u001b[0;34m\u001b[0m\u001b[0m\n\u001b[0m\u001b[1;32m   1094\u001b[0m \u001b[0;34m\u001b[0m\u001b[0m\n",
            "\u001b[0;32m/usr/lib/python3.12/http/client.py\u001b[0m in \u001b[0;36msend\u001b[0;34m(self, data)\u001b[0m\n\u001b[1;32m   1036\u001b[0m             \u001b[0;32mif\u001b[0m \u001b[0mself\u001b[0m\u001b[0;34m.\u001b[0m\u001b[0mauto_open\u001b[0m\u001b[0;34m:\u001b[0m\u001b[0;34m\u001b[0m\u001b[0;34m\u001b[0m\u001b[0m\n\u001b[0;32m-> 1037\u001b[0;31m                 \u001b[0mself\u001b[0m\u001b[0;34m.\u001b[0m\u001b[0mconnect\u001b[0m\u001b[0;34m(\u001b[0m\u001b[0;34m)\u001b[0m\u001b[0;34m\u001b[0m\u001b[0;34m\u001b[0m\u001b[0m\n\u001b[0m\u001b[1;32m   1038\u001b[0m             \u001b[0;32melse\u001b[0m\u001b[0;34m:\u001b[0m\u001b[0;34m\u001b[0m\u001b[0;34m\u001b[0m\u001b[0m\n",
            "\u001b[0;32m/usr/lib/python3.12/http/client.py\u001b[0m in \u001b[0;36mconnect\u001b[0;34m(self)\u001b[0m\n\u001b[1;32m   1478\u001b[0m \u001b[0;34m\u001b[0m\u001b[0m\n\u001b[0;32m-> 1479\u001b[0;31m             self.sock = self._context.wrap_socket(self.sock,\n\u001b[0m\u001b[1;32m   1480\u001b[0m                                                   server_hostname=server_hostname)\n",
            "\u001b[0;32m/usr/lib/python3.12/ssl.py\u001b[0m in \u001b[0;36mwrap_socket\u001b[0;34m(self, sock, server_side, do_handshake_on_connect, suppress_ragged_eofs, server_hostname, session)\u001b[0m\n\u001b[1;32m    454\u001b[0m         \u001b[0;31m# ctx._wrap_socket()\u001b[0m\u001b[0;34m\u001b[0m\u001b[0;34m\u001b[0m\u001b[0m\n\u001b[0;32m--> 455\u001b[0;31m         return self.sslsocket_class._create(\n\u001b[0m\u001b[1;32m    456\u001b[0m             \u001b[0msock\u001b[0m\u001b[0;34m=\u001b[0m\u001b[0msock\u001b[0m\u001b[0;34m,\u001b[0m\u001b[0;34m\u001b[0m\u001b[0;34m\u001b[0m\u001b[0m\n",
            "\u001b[0;32m/usr/lib/python3.12/ssl.py\u001b[0m in \u001b[0;36m_create\u001b[0;34m(cls, sock, server_side, do_handshake_on_connect, suppress_ragged_eofs, server_hostname, context, session)\u001b[0m\n\u001b[1;32m   1040\u001b[0m                         \u001b[0;32mraise\u001b[0m \u001b[0mValueError\u001b[0m\u001b[0;34m(\u001b[0m\u001b[0;34m\"do_handshake_on_connect should not be specified for non-blocking sockets\"\u001b[0m\u001b[0;34m)\u001b[0m\u001b[0;34m\u001b[0m\u001b[0;34m\u001b[0m\u001b[0m\n\u001b[0;32m-> 1041\u001b[0;31m                     \u001b[0mself\u001b[0m\u001b[0;34m.\u001b[0m\u001b[0mdo_handshake\u001b[0m\u001b[0;34m(\u001b[0m\u001b[0;34m)\u001b[0m\u001b[0;34m\u001b[0m\u001b[0;34m\u001b[0m\u001b[0m\n\u001b[0m\u001b[1;32m   1042\u001b[0m         \u001b[0;32mexcept\u001b[0m\u001b[0;34m:\u001b[0m\u001b[0;34m\u001b[0m\u001b[0;34m\u001b[0m\u001b[0m\n",
            "\u001b[0;32m/usr/lib/python3.12/ssl.py\u001b[0m in \u001b[0;36mdo_handshake\u001b[0;34m(self, block)\u001b[0m\n\u001b[1;32m   1318\u001b[0m                 \u001b[0mself\u001b[0m\u001b[0;34m.\u001b[0m\u001b[0msettimeout\u001b[0m\u001b[0;34m(\u001b[0m\u001b[0;32mNone\u001b[0m\u001b[0;34m)\u001b[0m\u001b[0;34m\u001b[0m\u001b[0;34m\u001b[0m\u001b[0m\n\u001b[0;32m-> 1319\u001b[0;31m             \u001b[0mself\u001b[0m\u001b[0;34m.\u001b[0m\u001b[0m_sslobj\u001b[0m\u001b[0;34m.\u001b[0m\u001b[0mdo_handshake\u001b[0m\u001b[0;34m(\u001b[0m\u001b[0;34m)\u001b[0m\u001b[0;34m\u001b[0m\u001b[0;34m\u001b[0m\u001b[0m\n\u001b[0m\u001b[1;32m   1320\u001b[0m         \u001b[0;32mfinally\u001b[0m\u001b[0;34m:\u001b[0m\u001b[0;34m\u001b[0m\u001b[0;34m\u001b[0m\u001b[0m\n",
            "\u001b[0;31mSSLCertVerificationError\u001b[0m: [SSL: CERTIFICATE_VERIFY_FAILED] certificate verify failed: unable to get local issuer certificate (_ssl.c:1010)",
            "\nDuring handling of the above exception, another exception occurred:\n",
            "\u001b[0;31mURLError\u001b[0m                                  Traceback (most recent call last)",
            "\u001b[0;32m/tmp/ipython-input-3942078715.py\u001b[0m in \u001b[0;36m<cell line: 0>\u001b[0;34m()\u001b[0m\n\u001b[1;32m      8\u001b[0m \u001b[0;32mif\u001b[0m \u001b[0;32mnot\u001b[0m \u001b[0mos\u001b[0m\u001b[0;34m.\u001b[0m\u001b[0mpath\u001b[0m\u001b[0;34m.\u001b[0m\u001b[0mexists\u001b[0m\u001b[0;34m(\u001b[0m\u001b[0mzip_path\u001b[0m\u001b[0;34m)\u001b[0m\u001b[0;34m:\u001b[0m\u001b[0;34m\u001b[0m\u001b[0;34m\u001b[0m\u001b[0m\n\u001b[1;32m      9\u001b[0m     \u001b[0mprint\u001b[0m\u001b[0;34m(\u001b[0m\u001b[0;34m\"⬇️ Baixando subset...\"\u001b[0m\u001b[0;34m)\u001b[0m\u001b[0;34m\u001b[0m\u001b[0;34m\u001b[0m\u001b[0m\n\u001b[0;32m---> 10\u001b[0;31m     \u001b[0murllib\u001b[0m\u001b[0;34m.\u001b[0m\u001b[0mrequest\u001b[0m\u001b[0;34m.\u001b[0m\u001b[0murlretrieve\u001b[0m\u001b[0;34m(\u001b[0m\u001b[0msubset_url\u001b[0m\u001b[0;34m,\u001b[0m \u001b[0mzip_path\u001b[0m\u001b[0;34m)\u001b[0m\u001b[0;34m\u001b[0m\u001b[0;34m\u001b[0m\u001b[0m\n\u001b[0m\u001b[1;32m     11\u001b[0m \u001b[0;32melse\u001b[0m\u001b[0;34m:\u001b[0m\u001b[0;34m\u001b[0m\u001b[0;34m\u001b[0m\u001b[0m\n\u001b[1;32m     12\u001b[0m     \u001b[0mprint\u001b[0m\u001b[0;34m(\u001b[0m\u001b[0;34m\"ZIP já existe. Pulando download.\"\u001b[0m\u001b[0;34m)\u001b[0m\u001b[0;34m\u001b[0m\u001b[0;34m\u001b[0m\u001b[0m\n",
            "\u001b[0;32m/usr/lib/python3.12/urllib/request.py\u001b[0m in \u001b[0;36murlretrieve\u001b[0;34m(url, filename, reporthook, data)\u001b[0m\n\u001b[1;32m    238\u001b[0m     \u001b[0murl_type\u001b[0m\u001b[0;34m,\u001b[0m \u001b[0mpath\u001b[0m \u001b[0;34m=\u001b[0m \u001b[0m_splittype\u001b[0m\u001b[0;34m(\u001b[0m\u001b[0murl\u001b[0m\u001b[0;34m)\u001b[0m\u001b[0;34m\u001b[0m\u001b[0;34m\u001b[0m\u001b[0m\n\u001b[1;32m    239\u001b[0m \u001b[0;34m\u001b[0m\u001b[0m\n\u001b[0;32m--> 240\u001b[0;31m     \u001b[0;32mwith\u001b[0m \u001b[0mcontextlib\u001b[0m\u001b[0;34m.\u001b[0m\u001b[0mclosing\u001b[0m\u001b[0;34m(\u001b[0m\u001b[0murlopen\u001b[0m\u001b[0;34m(\u001b[0m\u001b[0murl\u001b[0m\u001b[0;34m,\u001b[0m \u001b[0mdata\u001b[0m\u001b[0;34m)\u001b[0m\u001b[0;34m)\u001b[0m \u001b[0;32mas\u001b[0m \u001b[0mfp\u001b[0m\u001b[0;34m:\u001b[0m\u001b[0;34m\u001b[0m\u001b[0;34m\u001b[0m\u001b[0m\n\u001b[0m\u001b[1;32m    241\u001b[0m         \u001b[0mheaders\u001b[0m \u001b[0;34m=\u001b[0m \u001b[0mfp\u001b[0m\u001b[0;34m.\u001b[0m\u001b[0minfo\u001b[0m\u001b[0;34m(\u001b[0m\u001b[0;34m)\u001b[0m\u001b[0;34m\u001b[0m\u001b[0;34m\u001b[0m\u001b[0m\n\u001b[1;32m    242\u001b[0m \u001b[0;34m\u001b[0m\u001b[0m\n",
            "\u001b[0;32m/usr/lib/python3.12/urllib/request.py\u001b[0m in \u001b[0;36murlopen\u001b[0;34m(url, data, timeout, cafile, capath, cadefault, context)\u001b[0m\n\u001b[1;32m    213\u001b[0m     \u001b[0;32melse\u001b[0m\u001b[0;34m:\u001b[0m\u001b[0;34m\u001b[0m\u001b[0;34m\u001b[0m\u001b[0m\n\u001b[1;32m    214\u001b[0m         \u001b[0mopener\u001b[0m \u001b[0;34m=\u001b[0m \u001b[0m_opener\u001b[0m\u001b[0;34m\u001b[0m\u001b[0;34m\u001b[0m\u001b[0m\n\u001b[0;32m--> 215\u001b[0;31m     \u001b[0;32mreturn\u001b[0m \u001b[0mopener\u001b[0m\u001b[0;34m.\u001b[0m\u001b[0mopen\u001b[0m\u001b[0;34m(\u001b[0m\u001b[0murl\u001b[0m\u001b[0;34m,\u001b[0m \u001b[0mdata\u001b[0m\u001b[0;34m,\u001b[0m \u001b[0mtimeout\u001b[0m\u001b[0;34m)\u001b[0m\u001b[0;34m\u001b[0m\u001b[0;34m\u001b[0m\u001b[0m\n\u001b[0m\u001b[1;32m    216\u001b[0m \u001b[0;34m\u001b[0m\u001b[0m\n\u001b[1;32m    217\u001b[0m \u001b[0;32mdef\u001b[0m \u001b[0minstall_opener\u001b[0m\u001b[0;34m(\u001b[0m\u001b[0mopener\u001b[0m\u001b[0;34m)\u001b[0m\u001b[0;34m:\u001b[0m\u001b[0;34m\u001b[0m\u001b[0;34m\u001b[0m\u001b[0m\n",
            "\u001b[0;32m/usr/lib/python3.12/urllib/request.py\u001b[0m in \u001b[0;36mopen\u001b[0;34m(self, fullurl, data, timeout)\u001b[0m\n\u001b[1;32m    513\u001b[0m \u001b[0;34m\u001b[0m\u001b[0m\n\u001b[1;32m    514\u001b[0m         \u001b[0msys\u001b[0m\u001b[0;34m.\u001b[0m\u001b[0maudit\u001b[0m\u001b[0;34m(\u001b[0m\u001b[0;34m'urllib.Request'\u001b[0m\u001b[0;34m,\u001b[0m \u001b[0mreq\u001b[0m\u001b[0;34m.\u001b[0m\u001b[0mfull_url\u001b[0m\u001b[0;34m,\u001b[0m \u001b[0mreq\u001b[0m\u001b[0;34m.\u001b[0m\u001b[0mdata\u001b[0m\u001b[0;34m,\u001b[0m \u001b[0mreq\u001b[0m\u001b[0;34m.\u001b[0m\u001b[0mheaders\u001b[0m\u001b[0;34m,\u001b[0m \u001b[0mreq\u001b[0m\u001b[0;34m.\u001b[0m\u001b[0mget_method\u001b[0m\u001b[0;34m(\u001b[0m\u001b[0;34m)\u001b[0m\u001b[0;34m)\u001b[0m\u001b[0;34m\u001b[0m\u001b[0;34m\u001b[0m\u001b[0m\n\u001b[0;32m--> 515\u001b[0;31m         \u001b[0mresponse\u001b[0m \u001b[0;34m=\u001b[0m \u001b[0mself\u001b[0m\u001b[0;34m.\u001b[0m\u001b[0m_open\u001b[0m\u001b[0;34m(\u001b[0m\u001b[0mreq\u001b[0m\u001b[0;34m,\u001b[0m \u001b[0mdata\u001b[0m\u001b[0;34m)\u001b[0m\u001b[0;34m\u001b[0m\u001b[0;34m\u001b[0m\u001b[0m\n\u001b[0m\u001b[1;32m    516\u001b[0m \u001b[0;34m\u001b[0m\u001b[0m\n\u001b[1;32m    517\u001b[0m         \u001b[0;31m# post-process response\u001b[0m\u001b[0;34m\u001b[0m\u001b[0;34m\u001b[0m\u001b[0m\n",
            "\u001b[0;32m/usr/lib/python3.12/urllib/request.py\u001b[0m in \u001b[0;36m_open\u001b[0;34m(self, req, data)\u001b[0m\n\u001b[1;32m    530\u001b[0m \u001b[0;34m\u001b[0m\u001b[0m\n\u001b[1;32m    531\u001b[0m         \u001b[0mprotocol\u001b[0m \u001b[0;34m=\u001b[0m \u001b[0mreq\u001b[0m\u001b[0;34m.\u001b[0m\u001b[0mtype\u001b[0m\u001b[0;34m\u001b[0m\u001b[0;34m\u001b[0m\u001b[0m\n\u001b[0;32m--> 532\u001b[0;31m         result = self._call_chain(self.handle_open, protocol, protocol +\n\u001b[0m\u001b[1;32m    533\u001b[0m                                   '_open', req)\n\u001b[1;32m    534\u001b[0m         \u001b[0;32mif\u001b[0m \u001b[0mresult\u001b[0m\u001b[0;34m:\u001b[0m\u001b[0;34m\u001b[0m\u001b[0;34m\u001b[0m\u001b[0m\n",
            "\u001b[0;32m/usr/lib/python3.12/urllib/request.py\u001b[0m in \u001b[0;36m_call_chain\u001b[0;34m(self, chain, kind, meth_name, *args)\u001b[0m\n\u001b[1;32m    490\u001b[0m         \u001b[0;32mfor\u001b[0m \u001b[0mhandler\u001b[0m \u001b[0;32min\u001b[0m \u001b[0mhandlers\u001b[0m\u001b[0;34m:\u001b[0m\u001b[0;34m\u001b[0m\u001b[0;34m\u001b[0m\u001b[0m\n\u001b[1;32m    491\u001b[0m             \u001b[0mfunc\u001b[0m \u001b[0;34m=\u001b[0m \u001b[0mgetattr\u001b[0m\u001b[0;34m(\u001b[0m\u001b[0mhandler\u001b[0m\u001b[0;34m,\u001b[0m \u001b[0mmeth_name\u001b[0m\u001b[0;34m)\u001b[0m\u001b[0;34m\u001b[0m\u001b[0;34m\u001b[0m\u001b[0m\n\u001b[0;32m--> 492\u001b[0;31m             \u001b[0mresult\u001b[0m \u001b[0;34m=\u001b[0m \u001b[0mfunc\u001b[0m\u001b[0;34m(\u001b[0m\u001b[0;34m*\u001b[0m\u001b[0margs\u001b[0m\u001b[0;34m)\u001b[0m\u001b[0;34m\u001b[0m\u001b[0;34m\u001b[0m\u001b[0m\n\u001b[0m\u001b[1;32m    493\u001b[0m             \u001b[0;32mif\u001b[0m \u001b[0mresult\u001b[0m \u001b[0;32mis\u001b[0m \u001b[0;32mnot\u001b[0m \u001b[0;32mNone\u001b[0m\u001b[0;34m:\u001b[0m\u001b[0;34m\u001b[0m\u001b[0;34m\u001b[0m\u001b[0m\n\u001b[1;32m    494\u001b[0m                 \u001b[0;32mreturn\u001b[0m \u001b[0mresult\u001b[0m\u001b[0;34m\u001b[0m\u001b[0;34m\u001b[0m\u001b[0m\n",
            "\u001b[0;32m/usr/lib/python3.12/urllib/request.py\u001b[0m in \u001b[0;36mhttps_open\u001b[0;34m(self, req)\u001b[0m\n\u001b[1;32m   1390\u001b[0m \u001b[0;34m\u001b[0m\u001b[0m\n\u001b[1;32m   1391\u001b[0m         \u001b[0;32mdef\u001b[0m \u001b[0mhttps_open\u001b[0m\u001b[0;34m(\u001b[0m\u001b[0mself\u001b[0m\u001b[0;34m,\u001b[0m \u001b[0mreq\u001b[0m\u001b[0;34m)\u001b[0m\u001b[0;34m:\u001b[0m\u001b[0;34m\u001b[0m\u001b[0;34m\u001b[0m\u001b[0m\n\u001b[0;32m-> 1392\u001b[0;31m             return self.do_open(http.client.HTTPSConnection, req,\n\u001b[0m\u001b[1;32m   1393\u001b[0m                                 context=self._context)\n\u001b[1;32m   1394\u001b[0m \u001b[0;34m\u001b[0m\u001b[0m\n",
            "\u001b[0;32m/usr/lib/python3.12/urllib/request.py\u001b[0m in \u001b[0;36mdo_open\u001b[0;34m(self, http_class, req, **http_conn_args)\u001b[0m\n\u001b[1;32m   1345\u001b[0m                           encode_chunked=req.has_header('Transfer-encoding'))\n\u001b[1;32m   1346\u001b[0m             \u001b[0;32mexcept\u001b[0m \u001b[0mOSError\u001b[0m \u001b[0;32mas\u001b[0m \u001b[0merr\u001b[0m\u001b[0;34m:\u001b[0m \u001b[0;31m# timeout error\u001b[0m\u001b[0;34m\u001b[0m\u001b[0;34m\u001b[0m\u001b[0m\n\u001b[0;32m-> 1347\u001b[0;31m                 \u001b[0;32mraise\u001b[0m \u001b[0mURLError\u001b[0m\u001b[0;34m(\u001b[0m\u001b[0merr\u001b[0m\u001b[0;34m)\u001b[0m\u001b[0;34m\u001b[0m\u001b[0;34m\u001b[0m\u001b[0m\n\u001b[0m\u001b[1;32m   1348\u001b[0m             \u001b[0mr\u001b[0m \u001b[0;34m=\u001b[0m \u001b[0mh\u001b[0m\u001b[0;34m.\u001b[0m\u001b[0mgetresponse\u001b[0m\u001b[0;34m(\u001b[0m\u001b[0;34m)\u001b[0m\u001b[0;34m\u001b[0m\u001b[0;34m\u001b[0m\u001b[0m\n\u001b[1;32m   1349\u001b[0m         \u001b[0;32mexcept\u001b[0m\u001b[0;34m:\u001b[0m\u001b[0;34m\u001b[0m\u001b[0;34m\u001b[0m\u001b[0m\n",
            "\u001b[0;31mURLError\u001b[0m: <urlopen error [SSL: CERTIFICATE_VERIFY_FAILED] certificate verify failed: unable to get local issuer certificate (_ssl.c:1010)>"
          ]
        }
      ],
      "source": [
        "# CEL 4 — baixar o subset (~439 MB) e extrair\n",
        "import os, zipfile, urllib.request, pathlib\n",
        "\n",
        "subset_url = \"https://twice.eletrica.ufpr.br/TWICEsubset.zip\"\n",
        "zip_path = \"/content/TWICEsubset.zip\"\n",
        "out_dir = pathlib.Path(\"/content/TWICE\")\n",
        "\n",
        "if not os.path.exists(zip_path):\n",
        "    print(\"⬇️ Baixando subset...\")\n",
        "    urllib.request.urlretrieve(subset_url, zip_path)\n",
        "else:\n",
        "    print(\"ZIP já existe. Pulando download.\")\n",
        "\n",
        "print(\"📦 Extraindo...\")\n",
        "out_dir.mkdir(parents=True, exist_ok=True)\n",
        "with zipfile.ZipFile(zip_path, 'r') as zf:\n",
        "    zf.extractall(out_dir)\n",
        "\n",
        "print(\"✅ Pronto. Dados em:\", out_dir)"
      ]
    },
    {
      "cell_type": "markdown",
      "source": [
        "CEL 5 — configurar caminhos e importar utilitários\n",
        "\n",
        "o que faz: define DATA_ROOT=/content/TWICE e adiciona /content/scripts no sys.path. depois importa:\n",
        "\n",
        "rotation_matrix e cuboid_corners (para compor as arestas do cubo 3D),\n",
        "\n",
        "Camera (modelo de câmera usado na projeção).\n",
        "\n",
        "relação com o TWICE: prepara o ambiente para projetar as anotações 3D (OpenLABEL) sobre os frames de câmera do TWICE e para acessar outros utilitários do repo."
      ],
      "metadata": {
        "id": "r3mJ4XiShAwO"
      },
      "id": "r3mJ4XiShAwO"
    },
    {
      "cell_type": "code",
      "execution_count": null,
      "id": "7d37b089",
      "metadata": {
        "id": "7d37b089"
      },
      "outputs": [],
      "source": [
        "# CEL 5 — paths e imports\n",
        "import sys, pathlib\n",
        "DATA_ROOT = pathlib.Path(\"/content/TWICE\")\n",
        "SCRIPTS_ROOT = pathlib.Path(\"/content/scripts\")\n",
        "sys.path.insert(0, str(SCRIPTS_ROOT))\n",
        "\n",
        "print(\"DATA_ROOT =\", DATA_ROOT)\n",
        "print(\"SCRIPTS_ROOT =\", SCRIPTS_ROOT)\n",
        "\n",
        "from cuboid_project import rotation_matrix, cuboid_corners\n",
        "from vehicle_to_image import Camera\n",
        "print(\"✅ utilitários importados\")"
      ]
    },
    {
      "cell_type": "markdown",
      "source": [
        "CEL 6 — ler frames de câmera de um arquivo .osi e gerar um vídeo preview\n",
        "\n",
        "o que faz (técnico):\n",
        "\n",
        "encontra uma pasta .../Camera/ dentro do subset.\n",
        "\n",
        "abre o .osi da câmera em modo binário e faz o loop:\n",
        "\n",
        "lê 4 bytes com struct.unpack(\"I\", ...) → isso é o tamanho da próxima mensagem protobuf,\n",
        "\n",
        "lê o próximo blob de bytes (msg_len),\n",
        "\n",
        "instancia SensorData() (classe OSI) e chama ParseFromString(msg),\n",
        "\n",
        "obtém sd.image_data[0].image.raw_data (bytes JPEG do frame),\n",
        "\n",
        "decodifica para numpy com cv2.imdecode(...).\n",
        "\n",
        "guarda ~150 frames e salva um vídeo .mp4 (15 fps) com cv2.VideoWriter.\n",
        "\n",
        "relação com o TWICE: você reconstrói as imagens da câmera a partir do arquivo OSI do TWICE (cada mensagem é um frame), e cria um preview para inspecionar rapidamente se o caso/condição climática está ok."
      ],
      "metadata": {
        "id": "SePp97THhSxh"
      },
      "id": "SePp97THhSxh"
    },
    {
      "cell_type": "code",
      "execution_count": null,
      "id": "6459d5c7",
      "metadata": {
        "id": "6459d5c7"
      },
      "outputs": [],
      "source": [
        "# CEL 6 — iterar frames do .osi e salvar um MP4 (preview)\n",
        "import cv2, struct\n",
        "import numpy as np\n",
        "from pathlib import Path\n",
        "from tqdm import tqdm\n",
        "\n",
        "# Preferir as classes do repositório, quando disponíveis\n",
        "try:\n",
        "    from cuboid_project import SensorData as OSISensorData\n",
        "    SensorData = OSISensorData\n",
        "    from cuboid_project import SensorDataSeries  # se necessário em outros sensores\n",
        "except Exception as e:\n",
        "    SensorData = None\n",
        "    print(\"Aviso: classes de Sensor do repo não importadas:\", e)\n",
        "\n",
        "def iter_camera_frames(osi_path: Path):\n",
        "    assert SensorData is not None, \"SensorData do repo não disponível — verifique imports na CEL 5.\"\n",
        "    with open(osi_path, \"rb\") as f:\n",
        "        while True:\n",
        "            len_bytes = f.read(4)\n",
        "            if not len_bytes:\n",
        "                break\n",
        "            (msg_len,) = struct.unpack(\"I\", len_bytes)\n",
        "            msg = f.read(msg_len)\n",
        "            sd = SensorData()\n",
        "            sd.ParseFromString(msg)\n",
        "            if sd.HasField(\"image_data\") and len(sd.image_data) and sd.image_data[0].HasField(\"image\"):\n",
        "                img_bytes = sd.image_data[0].image.raw_data\n",
        "                img_np = np.frombuffer(img_bytes, dtype=np.uint8)\n",
        "                frame = cv2.imdecode(img_np, cv2.IMREAD_COLOR)\n",
        "                if frame is not None:\n",
        "                    yield frame\n",
        "\n",
        "# achar uma pasta /Camera no subset\n",
        "scenario_dir = next(DATA_ROOT.rglob(\"Camera\"), None)\n",
        "assert scenario_dir is not None, \"Não encontrei /Camera no subset. Verifique se o ZIP foi extraído corretamente.\"\n",
        "\n",
        "cam_file = next(Path(scenario_dir).glob(\"*.osi\"))\n",
        "print(\"🎥 Câmera .osi:\", cam_file)\n",
        "\n",
        "# gerar um preview curto (≤150 frames)\n",
        "frames = []\n",
        "for i, fr in enumerate(iter_camera_frames(cam_file)):\n",
        "    frames.append(fr)\n",
        "    if i >= 150: break\n",
        "\n",
        "assert frames, \"Não foi possível decodificar frames. Verifique a instalação do OSI e o arquivo .osi.\"\n",
        "\n",
        "h, w = frames[0].shape[:2]\n",
        "out_path = \"/content/camera_preview.mp4\"\n",
        "fourcc = cv2.VideoWriter_fourcc(*\"mp4v\")\n",
        "vw = cv2.VideoWriter(out_path, fourcc, 15, (w, h))\n",
        "for fr in frames:\n",
        "    vw.write(fr)\n",
        "vw.release()\n",
        "print(\"✅ Preview salvo em:\", out_path)"
      ]
    },
    {
      "cell_type": "markdown",
      "source": [
        "CEL 7 — carregar OpenLABEL e preparar a projeção 3D→2D\n",
        "\n",
        "o que faz:\n",
        "\n",
        "abre o *open*label*camera*.json do cenário,\n",
        "\n",
        "extrai a matriz intrínseca K a partir de camera_matrix_3x4 → remodela para (3×4) e usa as 3×3 primeiras colunas,\n",
        "\n",
        "(na célula de exemplo) só escreve um texto no frame; para desenhar as arestas do cubo você usa:\n",
        "\n",
        "os “cuboids” (posição, dimensões, orientação) em openlabel[\"objects\"][...][\"object_data\"][\"cuboid\"][\"val\"],\n",
        "\n",
        "funções do cuboid_project.py para obter os 8 cantos 3D (cuboid_corners), aplicar rotação/translação (extrínsecas) e projetar com K (intrínsecas),\n",
        "\n",
        "desenhar arestas com cv2.line.\n",
        "\n",
        "relação com o TWICE: o TWICE rotula em OpenLABEL (padrão da ASAM): você aproveita essas anotações para desenhar ground-truth sobre os frames, checar calibração e gerar vídeos anotados."
      ],
      "metadata": {
        "id": "bd-uyT-wiOS_"
      },
      "id": "bd-uyT-wiOS_"
    },
    {
      "cell_type": "code",
      "execution_count": null,
      "id": "588ebaad",
      "metadata": {
        "id": "588ebaad"
      },
      "outputs": [],
      "source": [
        "# CEL 7 — carregar intrínsecas do OpenLABEL e desenhar uma anotação no primeiro frame\n",
        "import json, cv2, numpy as np\n",
        "from pathlib import Path\n",
        "\n",
        "openlabel_file = next(Path(scenario_dir).glob(\"*open*label*camera*.json\"), None)\n",
        "print(\"🧾 OpenLABEL:\", openlabel_file)\n",
        "\n",
        "with open(openlabel_file, \"r\") as f:\n",
        "    ol = json.load(f)\n",
        "\n",
        "# Matriz intrínseca K\n",
        "K = np.array(\n",
        "    ol[\"openlabel\"][\"frames\"][0][\"frame_properties\"][\"Streams\"][\"Camera1\"][\"intrinsics_pinhole\"][\"camera_matrix_3x4\"]\n",
        ").reshape(3,4)[:3,:3]\n",
        "\n",
        "# Demonstração simples (texto). Para projeção 3D->2D (arestas), use as funções do cuboid_project.py\n",
        "frame0 = frames[0].copy()\n",
        "cv2.putText(frame0, \"Cuboids: use funcoes do cuboid_project.py para projetar 3D->2D\", (30,40),\n",
        "            cv2.FONT_HERSHEY_SIMPLEX, 0.8, (0,255,0), 2)\n",
        "cv2.imwrite(\"/content/cuboids_demo.jpg\", frame0)\n",
        "print(\"✅ Exemplo salvo em /content/cuboids_demo.jpg\")"
      ]
    },
    {
      "cell_type": "markdown",
      "source": [
        "CEL 8 — visualizar radar (cluster / object list) e trajetórias\n",
        "\n",
        "o que faz: importa radar_osi_plot.py, localiza um .osi de radar (se existir no subset daquele cenário) e orienta usar as funções do script para plotar:\n",
        "\n",
        "cluster: nuvem de pontos (cada reflexão do radar),\n",
        "\n",
        "object list: lista de objetos agregados pelo ECU (com velocidade/posição/RCS),\n",
        "\n",
        "posição do ego e do alvo (IMU/GNSS) ao longo do tempo.\n",
        "\n",
        "relação com o TWICE: permite ver como o radar “enxerga” o mesmo cenário da câmera (real e HIL), inclusive comparando modos de operação."
      ],
      "metadata": {
        "id": "qqHXrOwhi63l"
      },
      "id": "qqHXrOwhi63l"
    },
    {
      "cell_type": "code",
      "execution_count": null,
      "id": "1531b258",
      "metadata": {
        "id": "1531b258"
      },
      "outputs": [],
      "source": [
        "# CEL 8 — visualizar radar (cluster/object list) — precisa de arquivo em /Radar\n",
        "from importlib import reload\n",
        "import os\n",
        "try:\n",
        "    import radar_osi_plot as rplt\n",
        "    reload(rplt)\n",
        "    radar_dir = (Path(scenario_dir).parent / \"Radar\")\n",
        "    if radar_dir.exists():\n",
        "        radar_osi = next(radar_dir.glob(\"*.osi\"))\n",
        "        print(\"📡 Radar .osi:\", radar_osi)\n",
        "        # Abra o arquivo radar_osi_plot.py para ver como salvar vídeo (há exemplo lá).\n",
        "    else:\n",
        "        print(\"⚠️ Este caso do subset pode não ter Radar. Teste outro cenário ou use o dataset completo.\")\n",
        "except Exception as e:\n",
        "    print(\"⚠️ Import do script de radar falhou:\", e)"
      ]
    },
    {
      "cell_type": "markdown",
      "source": [
        "CEL 9 — (opcional) rodar YOLOv7 como demo\n",
        "\n",
        "o que faz: exporta ~30 frames do preview para /content/frames/*.jpg, clona o repositório do YOLOv7 e roda detect.py com yolov7.pt. salva imagens e labels preditos em /content/y7out/det.\n",
        "\n",
        "relação com o TWICE: demonstra um baseline de detecção sobre os frames do TWICE. a partir daí, você pode comparar com GT do OpenLABEL (convertendo cuboids 3D → caixas 2D) para calcular IoU/AP, como o artigo exemplifica."
      ],
      "metadata": {
        "id": "jOW9TCajjTbp"
      },
      "id": "jOW9TCajjTbp"
    },
    {
      "cell_type": "code",
      "execution_count": null,
      "id": "1b928cb8",
      "metadata": {
        "id": "1b928cb8"
      },
      "outputs": [],
      "source": [
        "# CEL 9 — (opcional) rodar YOLOv7 para DEMO\n",
        "import os, cv2\n",
        "os.makedirs(\"/content/frames\", exist_ok=True)\n",
        "for i, fr in enumerate(frames[:30]):\n",
        "    cv2.imwrite(f\"/content/frames/{i:04d}.jpg\", fr)\n",
        "\n",
        "!git clone -q https://github.com/WongKinYiu/yolov7.git\n",
        "%cd /content/yolov7\n",
        "!pip -q install -r requirements.txt\n",
        "%cd /content/yolov7\n",
        "!python detect.py --weights yolov7.pt --conf 0.25 --source /content/frames --save-txt --project /content/y7out --name det --exist-ok\n",
        "print(\"✅ Saídas em /content/y7out/det\")"
      ]
    }
  ],
  "metadata": {
    "colab": {
      "provenance": [],
      "include_colab_link": true
    },
    "language_info": {
      "name": "python"
    },
    "kernelspec": {
      "name": "python3",
      "display_name": "Python 3"
    }
  },
  "nbformat": 4,
  "nbformat_minor": 5
}